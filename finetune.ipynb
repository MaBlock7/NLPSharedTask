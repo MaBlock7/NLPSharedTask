{
 "cells": [
  {
   "metadata": {},
   "cell_type": "markdown",
   "source": "",
   "id": "ffec9adf8bf9d2a1"
  },
  {
   "metadata": {},
   "cell_type": "code",
   "outputs": [],
   "execution_count": null,
   "source": "!pip install transformers accelerate evaluate scikit-learn",
   "id": "5bff52ee685ba3fb"
  },
  {
   "metadata": {
    "ExecuteTime": {
     "end_time": "2024-05-21T10:14:43.083608Z",
     "start_time": "2024-05-21T10:14:35.877556Z"
    }
   },
   "cell_type": "code",
   "source": "from finetune_scibert import finetune_and_save",
   "id": "c9818e98d793fb11",
   "outputs": [],
   "execution_count": 2
  },
  {
   "metadata": {
    "ExecuteTime": {
     "end_time": "2024-05-21T10:17:22.592883Z",
     "start_time": "2024-05-21T10:17:22.570130Z"
    }
   },
   "cell_type": "code",
   "source": [
    "base_models = {\n",
    "    'muppet': 'facebook/muppet-roberta-large',\n",
    "    'scibert': 'allenai/scibert_scivocab_uncased'\n",
    "}\n",
    "chosen = 'muppet'\n",
    "base_model = base_models[chosen]\n",
    "\n",
    "dataset_names = [\n",
    "'gpt-4-turbo',\n",
    "'llama-3-70b',\n",
    "'mixtral-8x22B'\n",
    "]\n",
    "index = 0\n",
    "name = dataset_names[index]\n",
    "dataset = f'data_with_null_with_synth_{name}.csv'\n",
    "datasets = [f'old_synth/data_with_null_with_synth_{d}.csv' for d in dataset_names]\n",
    "finetuned_name = f'{chosen}_{name}'"
   ],
   "id": "327f3db8d3ab149b",
   "outputs": [],
   "execution_count": 7
  },
  {
   "metadata": {},
   "cell_type": "code",
   "outputs": [],
   "execution_count": null,
   "source": [
    "print(f\"Finetuning {chosen} on {name}\")\n",
    "finetune_and_save(dataset, finetuned_name, base_model=base_model)"
   ],
   "id": "61f8aee5fd9943b0"
  },
  {
   "metadata": {},
   "cell_type": "code",
   "outputs": [],
   "execution_count": null,
   "source": "",
   "id": "4a11dbaab1da6092"
  },
  {
   "metadata": {
    "ExecuteTime": {
     "end_time": "2024-05-21T10:14:46.818799Z",
     "start_time": "2024-05-21T10:14:46.815715Z"
    }
   },
   "cell_type": "code",
   "source": [
    "import pandas as pd\n",
    "def combine_csv_files(file1, file2, file3):\n",
    "    \"\"\"\n",
    "    Combine three CSV files into a single DataFrame, removing duplicates.\n",
    "\n",
    "    Parameters:\n",
    "    file1 (str): Path to the first CSV file.\n",
    "    file2 (str): Path to the second CSV file.\n",
    "    file3 (str): Path to the third CSV file.\n",
    "\n",
    "    Returns:\n",
    "    pd.DataFrame: Combined DataFrame without duplicates.\n",
    "    \"\"\"\n",
    "    \n",
    "    # Read the CSV files\n",
    "    df1 = pd.read_csv(file1)\n",
    "    df2 = pd.read_csv(file2)\n",
    "    df3 = pd.read_csv(file3)\n",
    "    \n",
    "    # Combine the DataFrames\n",
    "    combined_df = pd.concat([df1, df2, df3])\n",
    "    \n",
    "    # Remove duplicates\n",
    "    combined_df.drop_duplicates(inplace=True)\n",
    "    \n",
    "    return combined_df"
   ],
   "id": "7c4819b0ec8ce1bd",
   "outputs": [],
   "execution_count": 4
  },
  {
   "metadata": {
    "ExecuteTime": {
     "end_time": "2024-05-21T10:17:28.169325Z",
     "start_time": "2024-05-21T10:17:27.174749Z"
    }
   },
   "cell_type": "code",
   "source": "comb = combine_csv_files(datasets[0], datasets[1], datasets[2])",
   "id": "2db033323646033e",
   "outputs": [],
   "execution_count": 8
  },
  {
   "metadata": {
    "ExecuteTime": {
     "end_time": "2024-05-21T10:17:35.572388Z",
     "start_time": "2024-05-21T10:17:34.730328Z"
    }
   },
   "cell_type": "code",
   "source": "comb.to_csv('combined_file.csv', index=False)",
   "id": "eb9e765d057a859",
   "outputs": [],
   "execution_count": 9
  },
  {
   "metadata": {},
   "cell_type": "code",
   "outputs": [],
   "execution_count": null,
   "source": "",
   "id": "daa78a9668df84ce"
  }
 ],
 "metadata": {
  "kernelspec": {
   "display_name": "Python 3",
   "language": "python",
   "name": "python3"
  },
  "language_info": {
   "codemirror_mode": {
    "name": "ipython",
    "version": 2
   },
   "file_extension": ".py",
   "mimetype": "text/x-python",
   "name": "python",
   "nbconvert_exporter": "python",
   "pygments_lexer": "ipython2",
   "version": "2.7.6"
  }
 },
 "nbformat": 4,
 "nbformat_minor": 5
}
