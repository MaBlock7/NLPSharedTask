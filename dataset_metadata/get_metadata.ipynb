{
 "cells": [
  {
   "metadata": {
    "ExecuteTime": {
     "end_time": "2024-04-25T02:26:35.410838Z",
     "start_time": "2024-04-25T02:26:35.357785Z"
    }
   },
   "cell_type": "code",
   "source": [
    "from selenium import webdriver\n",
    "from selenium.webdriver.common.by import By\n",
    "from selenium.webdriver.support.ui import Select, WebDriverWait\n",
    "from selenium.webdriver.support import expected_conditions as EC\n",
    "from selenium.common import NoSuchElementException, StaleElementReferenceException\n",
    "from typing import Optional\n",
    "import pickle\n",
    "import csv\n",
    "from selenium.webdriver.chrome.service import Service"
   ],
   "id": "c0600ff7a8c7fcee",
   "outputs": [],
   "execution_count": 3
  },
  {
   "metadata": {
    "ExecuteTime": {
     "end_time": "2024-04-25T02:26:36.803101Z",
     "start_time": "2024-04-25T02:26:36.794548Z"
    }
   },
   "cell_type": "code",
   "source": [
    "import json\n",
    "path = 'task1_train.jsonl'\n",
    "data = []\n",
    "with open(path, 'r') as fl:\n",
    "    for line in fl:\n",
    "        data.append(json.loads(line))"
   ],
   "id": "89520858b06aa2af",
   "outputs": [],
   "execution_count": 4
  },
  {
   "metadata": {
    "ExecuteTime": {
     "end_time": "2024-04-25T02:26:51.621232Z",
     "start_time": "2024-04-25T02:26:49.174744Z"
    }
   },
   "cell_type": "code",
   "source": "driver = webdriver.Edge()\n",
   "id": "11ccef53f084b3a1",
   "outputs": [],
   "execution_count": 8
  },
  {
   "metadata": {
    "ExecuteTime": {
     "end_time": "2024-04-25T02:26:54.755422Z",
     "start_time": "2024-04-25T02:26:54.747116Z"
    }
   },
   "cell_type": "code",
   "source": [
    "def get_metadata(id: str):\n",
    "    url = f'https://www.zora.uzh.ch/id/eprint/{id}/'\n",
    "    print(f\"navigating to {url}\")\n",
    "    driver.get(url)\n",
    "    info = {}\n",
    "\n",
    "    print(\"finding tables..\")\n",
    "    tables = driver.find_elements(By.CLASS_NAME, 'ep_block')\n",
    "    print(\"finding rows..\")\n",
    "    table = tables[0]\n",
    "    rows = table.find_elements(By.TAG_NAME, 'tr')\n",
    "\n",
    "    # Iterate over the rows to extract the metadata.\n",
    "    i = 0\n",
    "    for row in rows:  # Skip the header row\n",
    "        print(f\"row {i} text: \\'{row.text}\\'.\")\n",
    "        # this is the key\n",
    "        head = row.find_elements(By.TAG_NAME, 'th')[0].text\n",
    "        # and this is the value\n",
    "        cell = row.find_elements(By.TAG_NAME, 'td')[0].text\n",
    "        info[head]=cell\n",
    "        print(f\"{head}: {cell}\")\n",
    "        i += 1\n",
    "        # break\n",
    "    return info"
   ],
   "id": "91afb05ad6ef31f0",
   "outputs": [],
   "execution_count": 9
  },
  {
   "metadata": {
    "ExecuteTime": {
     "end_time": "2024-04-25T02:26:55.975789Z",
     "start_time": "2024-04-25T02:26:55.972761Z"
    }
   },
   "cell_type": "code",
   "source": "meta_data_fname = f'goals_metadata.json'",
   "id": "8e0659ffd2104884",
   "outputs": [],
   "execution_count": 10
  },
  {
   "metadata": {
    "ExecuteTime": {
     "end_time": "2024-04-25T02:26:56.558250Z",
     "start_time": "2024-04-25T02:26:56.551795Z"
    }
   },
   "cell_type": "code",
   "source": [
    "import os\n",
    "\n",
    "if os.path.exists(meta_data_fname):\n",
    "    with open(meta_data_fname, \"r\") as f:\n",
    "        metas = json.load(f)\n",
    "else:\n",
    "    metas = {}\n",
    "    \n",
    "for i in range(len(data)):\n",
    "    t = data[i]\n",
    "    if metas.get(id) != None:\n",
    "        continue\n",
    "        \n",
    "    id = t[\"ID\"]\n",
    "    actual_id = id.replace(\"oai:www.zora.uzh.ch:\",\"\")\n",
    "    print(f\"Processing paper {id} ({actual_id})\")\n",
    "    meta = get_metadata(actual_id)\n",
    "    metas[id] = meta\n",
    "    with open(meta_data_fname, \"w\") as fl:\n",
    "        json.dump(metas, fl, indent=3)"
   ],
   "id": "af1918b6bef56b07",
   "outputs": [],
   "execution_count": 11
  },
  {
   "metadata": {
    "ExecuteTime": {
     "end_time": "2024-04-25T02:26:58.882509Z",
     "start_time": "2024-04-25T02:26:58.877258Z"
    }
   },
   "cell_type": "code",
   "source": "len(metas)",
   "id": "dada27affec3ccb9",
   "outputs": [
    {
     "data": {
      "text/plain": [
       "430"
      ]
     },
     "execution_count": 12,
     "metadata": {},
     "output_type": "execute_result"
    }
   ],
   "execution_count": 12
  },
  {
   "metadata": {
    "ExecuteTime": {
     "end_time": "2024-04-25T02:27:00.455555Z",
     "start_time": "2024-04-25T02:27:00.440810Z"
    }
   },
   "cell_type": "code",
   "source": [
    "# for each goal, gather the papers' categories that associate with that goal.\n",
    "\n",
    "s = {}\n",
    "for i in range(18):\n",
    "    s[i]={}\n",
    "    \n",
    "for id, meta in metas.items():\n",
    "    \n",
    "    clf = [i for i in data if i[\"ID\"] == id][0]\n",
    "    sdg = int(clf[\"SDG\"])\n",
    "    \n",
    "    for ml, mv in meta.items():\n",
    "        if s[sdg].get(ml) is None:\n",
    "            s[sdg][ml] = []\n",
    "        \n",
    "        b = mv.split('\\n')\n",
    "        for be in b:\n",
    "            s[sdg][ml].append(be)\n"
   ],
   "id": "9b44760d3ffba889",
   "outputs": [],
   "execution_count": 13
  },
  {
   "metadata": {
    "ExecuteTime": {
     "end_time": "2024-04-25T02:27:01.320214Z",
     "start_time": "2024-04-25T02:27:01.317723Z"
    }
   },
   "cell_type": "code",
   "source": [
    "# now eliminate duplicate categories by turning the lists into sets.\n",
    "for i in range(18):\n",
    "    for ml, mvs in s[i].items():\n",
    "        s[i][ml] = set(s[i][ml])"
   ],
   "id": "4d669a2245d7c0a9",
   "outputs": [],
   "execution_count": 14
  },
  {
   "metadata": {
    "ExecuteTime": {
     "end_time": "2024-04-25T02:27:01.920599Z",
     "start_time": "2024-04-25T02:27:01.916140Z"
    }
   },
   "cell_type": "code",
   "source": [
    "def my_add(w,k,v):\n",
    "    if w.get(k) is None:\n",
    "        w[k]={}\n",
    "    \n",
    "    w[k].append(v)"
   ],
   "id": "3e2dcacb78a3e3a0",
   "outputs": [],
   "execution_count": 15
  },
  {
   "metadata": {
    "ExecuteTime": {
     "end_time": "2024-04-25T02:27:02.325453Z",
     "start_time": "2024-04-25T02:27:02.321446Z"
    }
   },
   "cell_type": "code",
   "source": [
    "def rec_add(o, i, o2):\n",
    "    k = o2[i]\n",
    "    if o.get(k) is None:\n",
    "        o[k]={}\n",
    "        \n",
    "    if i+1 >= len(o2):\n",
    "        return o[k]\n",
    "    else:\n",
    "        return rec_add(o[k],i+1,o2)\n",
    "    \n",
    "def fill_for_goal(goal: int):\n",
    "    G1 = s[goal][\"Communities & Collections:\"]\n",
    "    G2 = s[goal][\"Dewey Decimal Classification:\"]\n",
    "    G = list(G1)+list(G2)\n",
    "    my_cats = {}\n",
    "    for thing in G:\n",
    "        parts = thing.split(' > ')\n",
    "        rec_add(my_cats,0,parts)\n",
    "    return my_cats\n",
    "\n",
    "goals_categories = {}\n",
    "for i in range(18):\n",
    "    goals_categories[i] = fill_for_goal(i)\n"
   ],
   "id": "86a18b7751009362",
   "outputs": [],
   "execution_count": 16
  },
  {
   "metadata": {
    "ExecuteTime": {
     "end_time": "2024-04-25T02:27:03.094488Z",
     "start_time": "2024-04-25T02:27:03.091628Z"
    }
   },
   "cell_type": "code",
   "source": [
    "def rec_print(d: dict, i: str):\n",
    "    next_i = i+\"---\"\n",
    "    for k,v in d.items():\n",
    "        print(i+k)\n",
    "        rec_print(v,next_i)\n",
    "def print_for_goal(goal: int):\n",
    "    print(f\"categories of papers of goal {goal}:\")\n",
    "    rec_print(goals_categories[goal],\"\")\n",
    "print_for_goal(0)"
   ],
   "id": "39ce878519109eb0",
   "outputs": [
    {
     "name": "stdout",
     "output_type": "stream",
     "text": [
      "categories of papers of goal 0:\n",
      "03 Faculty of Economics\n",
      "---Department of Informatics\n",
      "---Department of Business Administration\n",
      "---Department of Banking and Finance\n",
      "---Center for Corporate Responsibility and Sustainability\n",
      "---Department of Economics\n",
      "---UBS Center for Economics in Society\n",
      "07 Faculty of Science\n",
      "---Institute of Molecular Cancer Research\n",
      "---Department of Evolutionary Anthropology\n",
      "---Zurich-Basel Plant Science Center\n",
      "---Department of Chemistry\n",
      "---Institute of Geography\n",
      "---Institute of Molecular Life Sciences\n",
      "---Physics Institute\n",
      "---Department of Systematic and Evolutionary Botany\n",
      "---Institute of Mathematics\n",
      "---Department of Plant and Microbial Biology\n",
      "---Institute of Pharmacology and Toxicology\n",
      "---Institute for Computational Science\n",
      "---Institute of Evolutionary Biology and Environmental Studies\n",
      "06 Faculty of Arts\n",
      "---Institute of Sociology\n",
      "---Linguistic Research Infrastructure (LiRI)\n",
      "---Institute of Psychology\n",
      "---English Department\n",
      "---Department of Communication and Media Research\n",
      "---Institute of Archaeology\n",
      "---Jacobs Center for Productive Youth Development\n",
      "---Institute of Slavonic Studies\n",
      "---Institute of Computational Linguistics\n",
      "---Institute of Philosophy\n",
      "---Zurich Center for Linguistics\n",
      "---Institute of Political Science\n",
      "---Institute of Romance Studies\n",
      "08 Research Priority Programs\n",
      "---Digital Society Initiative\n",
      "---Language and Space\n",
      "---Dynamics of Healthy Aging\n",
      "---Evolution in Action: From Genomes to Ecosystems\n",
      "---Global Change and Biodiversity\n",
      "---Digital Religion(s)\n",
      "04 Faculty of Medicine\n",
      "---Psychiatric University Hospital Zurich\n",
      "------Clinic for Psychiatry, Psychotherapy, and Psychosomatics\n",
      "------Department of Child and Adolescent Psychiatry\n",
      "---Institute of Medical Virology\n",
      "---Institute of Pharmacology and Toxicology\n",
      "---Institute of Molecular Cancer Research\n",
      "---Institute of Biomedical Engineering\n",
      "---University Children's Hospital Zurich\n",
      "------Medical Clinic\n",
      "---University Hospital Zurich\n",
      "------Clinic for Otorhinolaryngology\n",
      "------Institute of General Practice\n",
      "---Institute of Parasitology\n",
      "---Epidemiology, Biostatistics and Prevention Institute (EBPI)\n",
      "---Zurich Center for Integrative Human Physiology (ZIHP)\n",
      "---Functional Genomics Center Zurich\n",
      "---Institute of Experimental Immunology\n",
      "---Neuroscience Center Zurich\n",
      "01 Faculty of Theology and the Study of Religion\n",
      "---Center for Ethics\n",
      "Working Paper Series\n",
      "---Department of Economics\n",
      "---UBS Center Working Paper Series\n",
      "---UBS Center Public Paper Series\n",
      "05 Vetsuisse Faculty\n",
      "---Veterinärwissenschaftliches Institut\n",
      "------Institute of Food Safety and Hygiene\n",
      "------Institute of Parasitology\n",
      "------Institute of Virology\n",
      "------Institute of Veterinary Pharmacology and Toxicology\n",
      "------Chair in Veterinary Epidemiology\n",
      "------Institute of Veterinary Physiology\n",
      "---Veterinary Clinic\n",
      "------Department of Farm Animals\n",
      "------Department of Small Animals\n",
      "National licences\n",
      "---142-005\n",
      "370 Education\n",
      "170 Ethics\n",
      "450 Italian, Romanian & related languages\n",
      "610 Medicine & health\n",
      "510 Mathematics\n",
      "100 Philosophy\n",
      "470 Latin & Italic languages\n",
      "540 Chemistry\n",
      "460 Spanish & Portuguese languages\n",
      "320 Political science\n",
      "300 Social sciences, sociology & anthropology\n",
      "910 Geography & travel\n",
      "410 Linguistics\n",
      "150 Psychology\n",
      "330 Economics\n",
      "580 Plants (Botany)\n",
      "000 Computer science, knowledge & systems\n",
      "590 Animals (Zoology)\n",
      "530 Physics\n",
      "400 Language\n",
      "440 French & related languages\n",
      "570 Life sciences; biology\n",
      "070 News media, journalism & publishing\n",
      "820 English & Old English literatures\n",
      "630 Agriculture\n",
      "900 History\n",
      "800 Literature, rhetoric & criticism\n",
      "490 Other languages\n"
     ]
    }
   ],
   "execution_count": 17
  },
  {
   "metadata": {
    "ExecuteTime": {
     "end_time": "2024-04-25T02:27:29.846223Z",
     "start_time": "2024-04-25T02:27:29.838612Z"
    }
   },
   "cell_type": "code",
   "source": [
    "goals_cat_fname = \"goals_categories.json\"\n",
    "with open(goals_cat_fname, \"w\") as f:\n",
    "    json.dump(goals_categories, f, indent=3)"
   ],
   "id": "98fef61d328ce1bf",
   "outputs": [],
   "execution_count": 19
  },
  {
   "metadata": {},
   "cell_type": "code",
   "outputs": [],
   "execution_count": null,
   "source": "",
   "id": "1ee209e1632b9ccf"
  }
 ],
 "metadata": {
  "kernelspec": {
   "display_name": "Python 3",
   "language": "python",
   "name": "python3"
  },
  "language_info": {
   "codemirror_mode": {
    "name": "ipython",
    "version": 2
   },
   "file_extension": ".py",
   "mimetype": "text/x-python",
   "name": "python",
   "nbconvert_exporter": "python",
   "pygments_lexer": "ipython2",
   "version": "2.7.6"
  }
 },
 "nbformat": 4,
 "nbformat_minor": 5
}
