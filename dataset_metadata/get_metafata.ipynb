{
 "cells": [
  {
   "metadata": {
    "ExecuteTime": {
     "end_time": "2024-04-25T02:18:43.370968Z",
     "start_time": "2024-04-25T02:18:43.365157Z"
    }
   },
   "cell_type": "code",
   "source": [
    "from selenium import webdriver\n",
    "from selenium.webdriver.common.by import By\n",
    "from selenium.webdriver.support.ui import Select, WebDriverWait\n",
    "from selenium.webdriver.support import expected_conditions as EC\n",
    "from selenium.common import NoSuchElementException, StaleElementReferenceException\n",
    "from typing import Optional\n",
    "import pickle\n",
    "import csv\n",
    "from selenium.webdriver.chrome.service import Service"
   ],
   "id": "c0600ff7a8c7fcee",
   "outputs": [],
   "execution_count": 7
  },
  {
   "metadata": {
    "ExecuteTime": {
     "end_time": "2024-04-25T02:18:44.025273Z",
     "start_time": "2024-04-25T02:18:44.017153Z"
    }
   },
   "cell_type": "code",
   "source": [
    "import json\n",
    "path = 'task1_train.jsonl'\n",
    "data = []\n",
    "with open(path, 'r') as fl:\n",
    "    for line in fl:\n",
    "        data.append(json.loads(line))"
   ],
   "id": "89520858b06aa2af",
   "outputs": [],
   "execution_count": 8
  },
  {
   "metadata": {
    "ExecuteTime": {
     "end_time": "2024-04-25T02:18:54.568509Z",
     "start_time": "2024-04-25T02:18:44.663416Z"
    }
   },
   "cell_type": "code",
   "source": "driver = webdriver.Edge()\n",
   "id": "11ccef53f084b3a1",
   "outputs": [
    {
     "name": "stderr",
     "output_type": "stream",
     "text": [
      "There was an error managing msedgedriver (error sending request for url (https://msedgedriver.azureedge.net/LATEST_RELEASE_124_MACOS)); using driver found in the cache\n"
     ]
    }
   ],
   "execution_count": 9
  },
  {
   "metadata": {
    "ExecuteTime": {
     "end_time": "2024-04-25T02:18:54.591816Z",
     "start_time": "2024-04-25T02:18:54.580017Z"
    }
   },
   "cell_type": "code",
   "source": [
    "def get_metadata(id: str):\n",
    "    url = f'https://www.zora.uzh.ch/id/eprint/{id}/'\n",
    "    print(f\"navigating to {url}\")\n",
    "    driver.get(url)\n",
    "    info = {}\n",
    "\n",
    "    print(\"finding tables..\")\n",
    "    tables = driver.find_elements(By.CLASS_NAME, 'ep_block')\n",
    "    print(\"finding rows..\")\n",
    "    table = tables[0]\n",
    "    rows = table.find_elements(By.TAG_NAME, 'tr')\n",
    "\n",
    "    # Iterate over the rows to extract the metadata.\n",
    "    i = 0\n",
    "    for row in rows:  # Skip the header row\n",
    "        print(f\"row {i} text: \\'{row.text}\\'.\")\n",
    "        # this is the key\n",
    "        head = row.find_elements(By.TAG_NAME, 'th')[0].text\n",
    "        # and this is the value\n",
    "        cell = row.find_elements(By.TAG_NAME, 'td')[0].text\n",
    "        info[head]=cell\n",
    "        print(f\"{head}: {cell}\")\n",
    "        i += 1\n",
    "        # break\n",
    "    return info"
   ],
   "id": "91afb05ad6ef31f0",
   "outputs": [],
   "execution_count": 10
  },
  {
   "metadata": {
    "ExecuteTime": {
     "end_time": "2024-04-25T02:18:57.255938Z",
     "start_time": "2024-04-25T02:18:57.253897Z"
    }
   },
   "cell_type": "code",
   "source": "meta_data_fname = f'goals_metadata.json'",
   "id": "8e0659ffd2104884",
   "outputs": [],
   "execution_count": 11
  },
  {
   "metadata": {
    "ExecuteTime": {
     "end_time": "2024-04-25T02:19:22.631576Z",
     "start_time": "2024-04-25T02:19:21.160527Z"
    }
   },
   "cell_type": "code",
   "source": [
    "import os\n",
    "\n",
    "if os.path.exists(meta_data_fname):\n",
    "    with open(meta_data_fname, \"r\") as f:\n",
    "        metas = json.load(f)\n",
    "else:\n",
    "    metas = {}\n",
    "    \n",
    "for i in range(len(data)):\n",
    "    t = data[i]\n",
    "    if metas.get(id) != None:\n",
    "        continue\n",
    "        \n",
    "    id = t[\"ID\"]\n",
    "    actual_id = id.replace(\"oai:www.zora.uzh.ch:\",\"\")\n",
    "    print(f\"Processing paper {id} ({actual_id})\")\n",
    "    meta = get_metadata(actual_id)\n",
    "    metas[id] = meta\n",
    "    with open(meta_data_fname, \"w\") as fl:\n",
    "        json.dump(metas, fl, indent=3)"
   ],
   "id": "af1918b6bef56b07",
   "outputs": [
    {
     "name": "stdout",
     "output_type": "stream",
     "text": [
      "Processing paper oai:www.zora.uzh.ch:126666 (126666)\n",
      "navigating to https://www.zora.uzh.ch/id/eprint/126666/\n",
      "finding tables..\n",
      "finding rows..\n",
      "row 0 text: 'Item Type: Book Section, refereed, original work'.\n",
      "Item Type:: Book Section, refereed, original work\n",
      "row 1 text: 'Communities & Collections: 06 Faculty of Arts > Institute of Computational Linguistics\n",
      "06 Faculty of Arts > Linguistic Research Infrastructure (LiRI)'.\n",
      "Communities & Collections:: 06 Faculty of Arts > Institute of Computational Linguistics\n",
      "06 Faculty of Arts > Linguistic Research Infrastructure (LiRI)\n",
      "row 2 text: 'Dewey Decimal Classification: 000 Computer science, knowledge & systems\n",
      "410 Linguistics'.\n",
      "Dewey Decimal Classification:: 000 Computer science, knowledge & systems\n",
      "410 Linguistics\n",
      "row 3 text: 'Language: English, German, Italian'.\n",
      "Language:: English, German, Italian\n",
      "row 4 text: 'Date: 2021'.\n",
      "Date:: 2021\n",
      "row 5 text: 'Deposited On: 10 Mar 2017 13:23'.\n",
      "Deposited On:: 10 Mar 2017 13:23\n",
      "row 6 text: 'Last Modified: 21 Mar 2024 11:47'.\n",
      "Last Modified:: 21 Mar 2024 11:47\n",
      "row 7 text: 'Publisher: Stauffenburg Verlag'.\n",
      "Publisher:: Stauffenburg Verlag\n",
      "row 8 text: 'Series Name: Stauffenburg Linguistik'.\n",
      "Series Name:: Stauffenburg Linguistik\n",
      "row 9 text: 'ISSN: 1430-4139'.\n",
      "ISSN:: 1430-4139\n",
      "row 10 text: 'ISBN: 978-3-95809-539-7'.\n",
      "ISBN:: 978-3-95809-539-7\n",
      "row 11 text: 'OA Status: Closed'.\n",
      "OA Status:: Closed\n"
     ]
    }
   ],
   "execution_count": 13
  },
  {
   "metadata": {
    "ExecuteTime": {
     "end_time": "2024-04-25T02:19:29.373706Z",
     "start_time": "2024-04-25T02:19:29.358494Z"
    }
   },
   "cell_type": "code",
   "source": "len(metas)",
   "id": "dada27affec3ccb9",
   "outputs": [
    {
     "data": {
      "text/plain": [
       "430"
      ]
     },
     "execution_count": 14,
     "metadata": {},
     "output_type": "execute_result"
    }
   ],
   "execution_count": 14
  },
  {
   "metadata": {
    "ExecuteTime": {
     "end_time": "2024-04-25T02:19:35.125607Z",
     "start_time": "2024-04-25T02:19:35.113733Z"
    }
   },
   "cell_type": "code",
   "source": [
    "# for each goal, gather the papers' categories that associate with that goal.\n",
    "\n",
    "s = {}\n",
    "for i in range(18):\n",
    "    s[i]={}\n",
    "    \n",
    "for id, meta in metas.items():\n",
    "    \n",
    "    clf = [i for i in data if i[\"ID\"] == id][0]\n",
    "    sdg = int(clf[\"SDG\"])\n",
    "    \n",
    "    for ml, mv in meta.items():\n",
    "        if s[sdg].get(ml) is None:\n",
    "            s[sdg][ml] = []\n",
    "        \n",
    "        b = mv.split('\\n')\n",
    "        for be in b:\n",
    "            s[sdg][ml].append(be)\n"
   ],
   "id": "9b44760d3ffba889",
   "outputs": [],
   "execution_count": 15
  },
  {
   "metadata": {
    "ExecuteTime": {
     "end_time": "2024-04-25T02:19:37.443293Z",
     "start_time": "2024-04-25T02:19:37.438476Z"
    }
   },
   "cell_type": "code",
   "source": [
    "# now eliminate duplicate categories by turning the lists into sets.\n",
    "for i in range(18):\n",
    "    for ml, mvs in s[i].items():\n",
    "        s[i][ml] = set(s[i][ml])"
   ],
   "id": "4d669a2245d7c0a9",
   "outputs": [],
   "execution_count": 16
  },
  {
   "metadata": {
    "ExecuteTime": {
     "end_time": "2024-04-25T02:19:39.355536Z",
     "start_time": "2024-04-25T02:19:39.352852Z"
    }
   },
   "cell_type": "code",
   "source": [
    "def my_add(w,k,v):\n",
    "    if w.get(k) is None:\n",
    "        w[k]={}\n",
    "    \n",
    "    w[k].append(v)"
   ],
   "id": "3e2dcacb78a3e3a0",
   "outputs": [],
   "execution_count": 17
  },
  {
   "metadata": {
    "ExecuteTime": {
     "end_time": "2024-04-25T02:19:40.157042Z",
     "start_time": "2024-04-25T02:19:40.153329Z"
    }
   },
   "cell_type": "code",
   "source": [
    "def rec_add(o, i, o2):\n",
    "    k = o2[i]\n",
    "    if o.get(k) is None:\n",
    "        o[k]={}\n",
    "        \n",
    "    if i+1 >= len(o2):\n",
    "        return o[k]\n",
    "    else:\n",
    "        return rec_add(o[k],i+1,o2)\n",
    "    \n",
    "def fill_for_goal(goal: int):\n",
    "    G1 = s[goal][\"Communities & Collections:\"]\n",
    "    G2 = s[goal][\"Dewey Decimal Classification:\"]\n",
    "    G = list(G1)+list(G2)\n",
    "    my_cats = {}\n",
    "    for thing in G:\n",
    "        parts = thing.split(' > ')\n",
    "        rec_add(my_cats,0,parts)\n",
    "    return my_cats\n",
    "\n",
    "goals_categories = {}\n",
    "for i in range(18):\n",
    "    goals_categories[i] = fill_for_goal(i)\n"
   ],
   "id": "86a18b7751009362",
   "outputs": [],
   "execution_count": 18
  },
  {
   "metadata": {
    "ExecuteTime": {
     "end_time": "2024-04-25T02:20:27.976941Z",
     "start_time": "2024-04-25T02:20:27.962033Z"
    }
   },
   "cell_type": "code",
   "source": [
    "def rec_print(d: dict, i: str):\n",
    "    next_i = i+\"---\"\n",
    "    for k,v in d.items():\n",
    "        print(i+k)\n",
    "        rec_print(v,next_i)\n",
    "def print_for_goal(goal: int):\n",
    "    print(f\"categories of papers of goal {goal}:\")\n",
    "    rec_print(goals_categories[goal],\"\")\n",
    "print_for_goal(0)"
   ],
   "id": "39ce878519109eb0",
   "outputs": [
    {
     "name": "stdout",
     "output_type": "stream",
     "text": [
      "categories of papers of goal 0:\n",
      "07 Faculty of Science\n",
      "---Department of Systematic and Evolutionary Botany\n",
      "---Department of Plant and Microbial Biology\n",
      "---Institute of Pharmacology and Toxicology\n",
      "---Department of Chemistry\n",
      "---Physics Institute\n",
      "---Institute of Molecular Life Sciences\n",
      "---Institute of Geography\n",
      "---Institute of Evolutionary Biology and Environmental Studies\n",
      "---Institute of Molecular Cancer Research\n",
      "---Institute for Computational Science\n",
      "---Department of Evolutionary Anthropology\n",
      "---Institute of Mathematics\n",
      "---Zurich-Basel Plant Science Center\n",
      "04 Faculty of Medicine\n",
      "---Institute of Pharmacology and Toxicology\n",
      "---Functional Genomics Center Zurich\n",
      "---Psychiatric University Hospital Zurich\n",
      "------Clinic for Psychiatry, Psychotherapy, and Psychosomatics\n",
      "------Department of Child and Adolescent Psychiatry\n",
      "---Institute of Parasitology\n",
      "---Neuroscience Center Zurich\n",
      "---Institute of Medical Virology\n",
      "---Institute of Experimental Immunology\n",
      "---University Hospital Zurich\n",
      "------Institute of General Practice\n",
      "------Clinic for Otorhinolaryngology\n",
      "---University Children's Hospital Zurich\n",
      "------Medical Clinic\n",
      "---Institute of Molecular Cancer Research\n",
      "---Institute of Biomedical Engineering\n",
      "---Zurich Center for Integrative Human Physiology (ZIHP)\n",
      "---Epidemiology, Biostatistics and Prevention Institute (EBPI)\n",
      "03 Faculty of Economics\n",
      "---Department of Informatics\n",
      "---Department of Economics\n",
      "---Department of Banking and Finance\n",
      "---Center for Corporate Responsibility and Sustainability\n",
      "---Department of Business Administration\n",
      "---UBS Center for Economics in Society\n",
      "06 Faculty of Arts\n",
      "---Institute of Romance Studies\n",
      "---English Department\n",
      "---Institute of Computational Linguistics\n",
      "---Institute of Slavonic Studies\n",
      "---Linguistic Research Infrastructure (LiRI)\n",
      "---Department of Communication and Media Research\n",
      "---Institute of Philosophy\n",
      "---Zurich Center for Linguistics\n",
      "---Institute of Archaeology\n",
      "---Institute of Psychology\n",
      "---Jacobs Center for Productive Youth Development\n",
      "---Institute of Political Science\n",
      "---Institute of Sociology\n",
      "Working Paper Series\n",
      "---Department of Economics\n",
      "---UBS Center Public Paper Series\n",
      "---UBS Center Working Paper Series\n",
      "08 Research Priority Programs\n",
      "---Global Change and Biodiversity\n",
      "---Digital Society Initiative\n",
      "---Evolution in Action: From Genomes to Ecosystems\n",
      "---Dynamics of Healthy Aging\n",
      "---Digital Religion(s)\n",
      "---Language and Space\n",
      "05 Vetsuisse Faculty\n",
      "---Veterinärwissenschaftliches Institut\n",
      "------Chair in Veterinary Epidemiology\n",
      "------Institute of Veterinary Physiology\n",
      "------Institute of Veterinary Pharmacology and Toxicology\n",
      "------Institute of Food Safety and Hygiene\n",
      "------Institute of Virology\n",
      "------Institute of Parasitology\n",
      "---Veterinary Clinic\n",
      "------Department of Small Animals\n",
      "------Department of Farm Animals\n",
      "01 Faculty of Theology and the Study of Religion\n",
      "---Center for Ethics\n",
      "National licences\n",
      "---142-005\n",
      "460 Spanish & Portuguese languages\n",
      "570 Life sciences; biology\n",
      "320 Political science\n",
      "510 Mathematics\n",
      "170 Ethics\n",
      "440 French & related languages\n",
      "610 Medicine & health\n",
      "580 Plants (Botany)\n",
      "000 Computer science, knowledge & systems\n",
      "590 Animals (Zoology)\n",
      "530 Physics\n",
      "400 Language\n",
      "490 Other languages\n",
      "910 Geography & travel\n",
      "330 Economics\n",
      "540 Chemistry\n",
      "070 News media, journalism & publishing\n",
      "150 Psychology\n",
      "820 English & Old English literatures\n",
      "470 Latin & Italic languages\n",
      "370 Education\n",
      "630 Agriculture\n",
      "410 Linguistics\n",
      "800 Literature, rhetoric & criticism\n",
      "300 Social sciences, sociology & anthropology\n",
      "900 History\n",
      "100 Philosophy\n",
      "450 Italian, Romanian & related languages\n"
     ]
    }
   ],
   "execution_count": 19
  }
 ],
 "metadata": {
  "kernelspec": {
   "display_name": "Python 3",
   "language": "python",
   "name": "python3"
  },
  "language_info": {
   "codemirror_mode": {
    "name": "ipython",
    "version": 2
   },
   "file_extension": ".py",
   "mimetype": "text/x-python",
   "name": "python",
   "nbconvert_exporter": "python",
   "pygments_lexer": "ipython2",
   "version": "2.7.6"
  }
 },
 "nbformat": 4,
 "nbformat_minor": 5
}
