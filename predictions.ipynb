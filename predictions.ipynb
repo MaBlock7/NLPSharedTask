{
 "cells": [
  {
   "cell_type": "code",
   "execution_count": 4,
   "metadata": {},
   "outputs": [],
   "source": [
    "import pandas as pd\n",
    "from transformers import pipeline, AutoModelForSequenceClassification, AutoTokenizer\n",
    "\n",
    "# Load the trained model\n",
    "model_name = 'gpt-4'\n",
    "model = AutoModelForSequenceClassification.from_pretrained(f'models/scibert_{model_name}')\n",
    "\n",
    "# Load the tokenizer\n",
    "tokenizer = AutoTokenizer.from_pretrained('allenai/scibert_scivocab_uncased')\n",
    "\n",
    "nlp = pipeline(\"text-classification\", model=model, tokenizer=tokenizer, framework='pt')  # device=0\n",
    "\n",
    "# Load data\n",
    "test_df = pd.read_csv('PROCESSED_ZORA_TEST.csv')\n",
    "\n",
    "# Process the data in batches\n",
    "test_df['GPT-4'] = test_df.PROCESSED.apply(nlp)\n",
    "\n",
    "mapping = {f'LABEL_{i}': i for i in range(18)}\n",
    "test_df.loc[:, 'GPT-4'] = [mapping[pred[0]['label']] for pred in test_df['GPT-4']]\n",
    "\n",
    "# Optional: Save the predictions\n",
    "test_df.to_csv('GPT_4_FINAL_PREDICTIONS.csv', index=False)"
   ]
  },
  {
   "cell_type": "code",
   "execution_count": 13,
   "metadata": {},
   "outputs": [],
   "source": [
    "from sklearn.metrics import accuracy_score, f1_score"
   ]
  },
  {
   "cell_type": "code",
   "execution_count": 16,
   "metadata": {},
   "outputs": [
    {
     "name": "stdout",
     "output_type": "stream",
     "text": [
      "0.46153846153846156\n",
      "0.4422980485642703\n"
     ]
    }
   ],
   "source": [
    "print(accuracy_score(test_df['SDG'].to_list(), test_df['GPT-4'].to_list()))\n",
    "print(f1_score(test_df['SDG'].to_list(), test_df['GPT-4'].to_list(), average='macro'))"
   ]
  }
 ],
 "metadata": {
  "kernelspec": {
   "display_name": "nlp_env",
   "language": "python",
   "name": "python3"
  },
  "language_info": {
   "codemirror_mode": {
    "name": "ipython",
    "version": 3
   },
   "file_extension": ".py",
   "mimetype": "text/x-python",
   "name": "python",
   "nbconvert_exporter": "python",
   "pygments_lexer": "ipython3",
   "version": "3.11.5"
  }
 },
 "nbformat": 4,
 "nbformat_minor": 2
}
