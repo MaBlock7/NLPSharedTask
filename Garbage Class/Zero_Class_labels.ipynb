{
 "cells": [
  {
   "cell_type": "code",
   "execution_count": 1,
   "id": "30e11d9d-1978-4774-8d94-3375f3a5dec6",
   "metadata": {},
   "outputs": [],
   "source": [
    "import pandas as pd\n",
    "import requests\n",
    "import json\n",
    "import time\n",
    "import random\n",
    "import os\n",
    "from semanticscholar import SemanticScholar"
   ]
  },
  {
   "cell_type": "code",
   "execution_count": 2,
   "id": "63639946-4228-4d1d-9f14-0d2b8e92db20",
   "metadata": {},
   "outputs": [],
   "source": [
    "# Query paramaeters for Null class\n",
    "subject_mathematics = [\"number theory\", \"vectorfields\", \"stochastic\", \"numeric\", \"geometry\"]\n",
    "\n",
    "subject_biology = [\"genome\", \"crispr\", \"cell therapy\", \"mrna\", \"synthetic biology\", \"proteomics\"]\n",
    "\n",
    "subject_chemistry = [\"spectroscopy\", \"organometallic\", \"photochemistry\", \"chromatography\", \"thermodynamics\"]\n",
    "\n",
    "subject_astrophysics = [\"astro\", \"nebular\", \"exoplanets\", \"cosmology\", \"dark matter\", \"stellar evolution\"]\n",
    "\n",
    "subject_technology = [\"complexity theory\", \"automata theory\", \"graph theory\", \"scientific visualization\", \"compiler design\", \"software testing\", \"edge computing\"]\n",
    "\n",
    "subject_physics = [\"nanotechnology\", \"quantum mechanics\", \"particle physics\", \"theoretical physics\"]\n",
    "\n",
    "subject_social = [\"psychoses\", \"mind\", \"cognitive anthropology\", \"experimental psychology\", \"phenomenology\", \"epistemology\", \"philosophy of language\"]"
   ]
  },
  {
   "cell_type": "code",
   "execution_count": 3,
   "id": "2639185f-ef19-4ffe-8c41-30a77cb9b859",
   "metadata": {},
   "outputs": [],
   "source": [
    "# To Do: Automate with topic modelling on sdg dataset\n",
    "\n",
    "sdg_keywords = {\n",
    "    \"SDG1\": [\"poverty\", \"extreme poverty\", \"social protection\", \"economic rights\", \"minimum wage\", \"social safety nets\", \"income\"],\n",
    "    \"SDG2\": [\"zero hunger\", \"food security\", \"malnutrition\", \"agricultural sustainability\", \"farming\", \"food deserts\", \"farming\"],\n",
    "    \"SDG3\": [\"health\", \"well-being\", \"public health\", \"healthcare equity\", \"preventative care\", \"vaccination\", \"epidemics\", \"malnutrition\"],\n",
    "    \"SDG4\": [\"education\", \"educational equity\", \"early childhood learning\", \"adult education\", \"digital literacy\", \"educational funding\", \"child labour\"],\n",
    "    \"SDG5\": [\"gender equality\", \"women's rights\", \"female empowerment\", \"women empowerment\", \"domestic violence\", \"gender parity\", \"reproductive rights\"],\n",
    "    \"SDG6\": [\"clean water\", \"water management\", \"sanitation\", \"hygiene\", \"water pollution\", \"drinking water access\", \"wastewater treatment\"],\n",
    "    \"SDG7\": [\"sustainable energy\", \"renewable sources\", \"solar power\", \"wind energy\", \"energy policy\", \"energy conservation\", \"grid modernization\", \"energy transition\"],\n",
    "    \"SDG8\": [\"economic development\", \"employment equality\", \"labor rights\", \"job creation\", \"sustainable economy\", \"workplace safety\", \"labour rights\", \"labour unions\"],\n",
    "    \"SDG9\": [\"industrialization\", \"infrastructure development\", \"innovation research\", \"technology development\", \"sustainable industries\", \"manufacturing practices\"],\n",
    "    \"SDG10\": [\"inequality reduction\", \"income disparities\", \"social injustice\", \"equitable growth\", \"discrimination\", \"minority rights\"],\n",
    "    \"SDG11\": [\"urban sustainability\", \"smart cities\", \"sustainable communities\", \"urban planning\", \"public transport\", \"green spaces\"],\n",
    "    \"SDG12\": [\"sustainable consumption\", \"waste management\", \"recycling policies\", \"environmental impact\", \"consumer behavior\", \"green products\", \"organic\"],\n",
    "    \"SDG13\": [\"climate mitigation\", \"adaptation strategies\", \"emission reduction\", \"climate policies\", \"renewable energies\", \"environmental activism\", \"pollution\", \"environmental activism\"],\n",
    "    \"SDG14\": [\"ocean conservation\", \"marine life\", \"aquatic ecosystems\", \"fisheries sustainability\", \"coral reefs\", \"ocean pollution\", \"ocean\", \"sea\", \"lake\"],\n",
    "    \"SDG15\": [\"land ecosystems\", \"conservation strategies\", \"wildlife habitats\", \"mountain\", \"errosion\", \"erruption\", \"land degradation\", \"biodiversity preservation\", \"terrestrial\", \"earth\", \"dessert\", \"forest\"],\n",
    "    \"SDG16\": [\"peaceful societies\", \"justice systems\", \"institutional integrity\", \"human rights\", \"rule of law\", \"anti-corruption\", \"corruption\", \"justice\", \"democracy\", \"leadership\"],\n",
    "    \"SDG17\": [\"global partnership\", \"sustainable development cooperation\", \"aid effectiveness\", \"technology transfer\", \"trade agreements\", \"financial support\", \"aid\"]\n",
    "}\n",
    "\n",
    "unique_sdg_keywords = list(set(keyword for keywords in sdg_keywords.values() for keyword in keywords))\n"
   ]
  },
  {
   "cell_type": "code",
   "execution_count": 4,
   "id": "ce4caf95-551d-43f4-a91a-3422308e151c",
   "metadata": {},
   "outputs": [
    {
     "name": "stdout",
     "output_type": "stream",
     "text": [
      "stellar evolution\n",
      "csv file for stellar evolution dumped\n",
      "complexity theory\n",
      "csv file for complexity theory dumped\n",
      "automata theory\n",
      "csv file for automata theory dumped\n",
      "graph theory\n",
      "csv file for graph theory dumped\n",
      "scientific visualization\n",
      "csv file for scientific visualization dumped\n",
      "compiler design\n",
      "csv file for compiler design dumped\n",
      "software testing\n",
      "csv file for software testing dumped\n",
      "edge computing\n",
      "csv file for edge computing dumped\n",
      "nanotechnology\n",
      "csv file for nanotechnology dumped\n",
      "quantum mechanics\n",
      "csv file for quantum mechanics dumped\n",
      "particle physics\n",
      "csv file for particle physics dumped\n",
      "theoretical physics\n",
      "csv file for theoretical physics dumped\n",
      "psychoses\n",
      "csv file for psychoses dumped\n",
      "mind\n",
      "csv file for mind dumped\n",
      "cognitive anthropology\n",
      "csv file for cognitive anthropology dumped\n",
      "experimental psychology\n",
      "csv file for experimental psychology dumped\n",
      "phenomenology\n",
      "csv file for phenomenology dumped\n",
      "epistemology\n",
      "csv file for epistemology dumped\n",
      "philosophy of language\n",
      "csv file for philosophy of language dumped\n"
     ]
    }
   ],
   "source": [
    "queries = [value for key, value in globals().items() if key.startswith(\"subject_\")]\n",
    "all_topics = [item for sublist in queries for item in sublist]        \n",
    "\n",
    "for topic in all_topics:\n",
    "    \n",
    "    test = [file for file in os.listdir() if file.endswith(f\"{topic}.csv\")]\n",
    "    if len(test): \n",
    "        continue\n",
    "    \n",
    "    topic_rows = []\n",
    "    sch = SemanticScholar()\n",
    "    time.sleep(random.randrange(10))\n",
    "    results = sch.search_paper(topic, fields=[\"title\", \"year\", \"paperId\", \"abstract\", \"fieldsOfStudy\"], limit=100)\n",
    "    print(topic)\n",
    "    for paper in results:\n",
    "        \n",
    "        if not paper.abstract is None:\n",
    "        \n",
    "            paper_id = paper.paperId\n",
    "            title = paper.title\n",
    "            abstract = paper.abstract\n",
    "            field_of_study = paper.fieldsOfStudy if paper.fieldsOfStudy is None else paper.fieldsOfStudy[0] if len(paper.fieldsOfStudy) == 1 else \";\".join(paper.fieldsOfStudy)\n",
    "\n",
    "            counter = 0\n",
    "            for word in abstract:\n",
    "                if word.lower().strip() in unique_sdg_keywords:\n",
    "                    print(word)\n",
    "                    counter +=1\n",
    "\n",
    "            topic_rows.append({\"id\": paper_id, \"title\": title, \"abstract\": abstract, \"field\": field_of_study, \"sdg_relation\": counter})\n",
    "    \n",
    "    df_topic = pd.DataFrame(topic_rows)\n",
    "    df_topic.to_csv(os.path.join(os.getcwd(), f\"{topic}.csv\"))\n",
    "    \n",
    "    print(f\"csv file for {topic} dumped\")\n",
    "    "
   ]
  },
  {
   "cell_type": "code",
   "execution_count": 5,
   "id": "84234c34-9b5a-4c49-a326-d4e76fece729",
   "metadata": {},
   "outputs": [],
   "source": [
    "\n",
    "data = []\n",
    "\n",
    "for file in os.listdir():\n",
    "    \n",
    "    if file.endswith(\".csv\"):\n",
    "        temp = pd.read_csv(file)\n",
    "        data.append(temp)\n",
    "    \n",
    "\n",
    "df_null = pd.concat(data)"
   ]
  },
  {
   "cell_type": "code",
   "execution_count": 7,
   "id": "95c6e82e-2a35-41dc-afc9-0500a9db966c",
   "metadata": {},
   "outputs": [],
   "source": [
    "df_null.drop(columns=[\"Unnamed: 0\"], axis=1, inplace=True)"
   ]
  },
  {
   "cell_type": "code",
   "execution_count": 8,
   "id": "86825327-550c-4acd-b37c-9b36cb0b9216",
   "metadata": {},
   "outputs": [],
   "source": [
    "df_null[\"sdg_label\"] = [0]*len(df_null)"
   ]
  },
  {
   "cell_type": "code",
   "execution_count": 9,
   "id": "6f5f0804-4635-4c7a-a7b5-651cf5602f14",
   "metadata": {},
   "outputs": [],
   "source": [
    "df_null.to_csv(\"null_labels.csv\", index=False)"
   ]
  },
  {
   "cell_type": "code",
   "execution_count": null,
   "id": "833cbdb0-94a1-4e91-baf8-5c0f77bd8f48",
   "metadata": {},
   "outputs": [],
   "source": []
  }
 ],
 "metadata": {
  "kernelspec": {
   "display_name": "Python 3 (ipykernel)",
   "language": "python",
   "name": "python3"
  },
  "language_info": {
   "codemirror_mode": {
    "name": "ipython",
    "version": 3
   },
   "file_extension": ".py",
   "mimetype": "text/x-python",
   "name": "python",
   "nbconvert_exporter": "python",
   "pygments_lexer": "ipython3",
   "version": "3.9.13"
  }
 },
 "nbformat": 4,
 "nbformat_minor": 5
}
